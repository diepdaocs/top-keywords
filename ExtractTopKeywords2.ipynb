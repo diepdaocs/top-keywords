{
 "cells": [
  {
   "cell_type": "markdown",
   "metadata": {},
   "source": [
    "# Crawl web pages"
   ]
  },
  {
   "cell_type": "code",
   "execution_count": 8,
   "metadata": {
    "collapsed": true
   },
   "outputs": [],
   "source": [
    "import requests\n",
    "import pandas as pd"
   ]
  },
  {
   "cell_type": "code",
   "execution_count": 192,
   "metadata": {},
   "outputs": [],
   "source": [
    "with open('personalized_gifts.txt') as f:\n",
    "    urls = f.read().splitlines()"
   ]
  },
  {
   "cell_type": "code",
   "execution_count": 193,
   "metadata": {
    "collapsed": true
   },
   "outputs": [
    {
     "data": {
      "text/plain": [
       "['http://www.personalizationmall.com/',\n",
       " 'https://www.uncommongoods.com/gifts/personalized/personalized-gifts',\n",
       " 'https://www.etsy.com/featured/personalized-holiday-and-christmas-gifts',\n",
       " 'https://www.thingsremembered.com/personalized-gifts-for-any-occasion',\n",
       " 'https://www.personalcreations.com/',\n",
       " 'https://www.shutterfly.com/personalized-gifts',\n",
       " 'https://www.walmart.com/cp/personalized-gifts/133224',\n",
       " 'https://www.gifts.com/categories/personalized-gifts/1vV',\n",
       " 'https://www.agiftpersonalized.com/',\n",
       " 'http://www.hallmark.com/personalized-gifts/',\n",
       " 'https://www.amazon.com/Amazon-Custom/b?ie=UTF8&node=11032013011',\n",
       " 'https://www.lakeside.com/browse/Gift-Ideas-Personalized-Personalized-Gifts/_/N-287k',\n",
       " 'https://weddingshop.theknot.com/gifts/for-her',\n",
       " 'http://www.bradfordexchange.com/mcategory/personalized-gifts.html',\n",
       " 'https://www.papersource.com/personalized_gifts/',\n",
       " 'https://www.bedbathandbeyond.com/store/category/personalized-gifts/13807/',\n",
       " 'https://www.ltdcommodities.com/browse/Gift-Ideas-Personalized-Personalized-Gifts/_/N-2882',\n",
       " 'http://www.buildabear.com/shopping/search/Gifts/z/',\n",
       " 'https://www.groupon.com/occasion/personalized-gifts-sale',\n",
       " 'https://www.landsend.com/shop/gifts',\n",
       " 'https://marleylilly.com/category/gifts/',\n",
       " 'https://www.staples.com/Personalized-Gifts/cat_CG3947',\n",
       " 'https://www.costcophotocenter.com/shop',\n",
       " 'http://shop.nordstrom.com/c/personalized-gifts',\n",
       " 'https://www.markandgraham.com/shop/gift-shops/personalized-gifts-for-her/',\n",
       " 'http://www.mancrates.com/personalized-gifts',\n",
       " 'https://www.thegrommet.com/collections/personalized-gifts',\n",
       " 'https://www.frecklebox.com/',\n",
       " 'https://www.potterybarnkids.com/shop/registry/personalized-gifts-registry/',\n",
       " 'https://www.buybuybaby.com/store/category/personalized-gifts/32820/',\n",
       " 'https://www.gifttree.com/v3/personalized-gifts',\n",
       " 'http://www.beau-coup.com/personalized-gifts.htm',\n",
       " 'http://www.grandinroad.com/gifts-celebrations/',\n",
       " 'https://www.igp.com/personalized-gifts',\n",
       " 'https://www.lillianvernon.com/lillys-kids.html',\n",
       " 'https://www.spreadshirt.com/personalized-gifts-C3582',\n",
       " 'https://www.putmeinthestory.com/personalized-gifts',\n",
       " 'http://www.packersproshop.com/green-bay-packers-gifts/personalized',\n",
       " 'https://store.nytimes.com/collections/personalized?mcubz=1',\n",
       " 'http://www.cafepress.com/make/personalized-gifts',\n",
       " 'http://www.countrydoor.com/Gifts/Personalized/index.cat',\n",
       " 'https://www.giftsforyounow.com/personalized-gifts-for-him_4.aspx',\n",
       " 'https://en.wikipedia.org/wiki/Talk%3APersonalized_gifts',\n",
       " 'https://www.iseeme.com/en-us/personalized-gifts.html',\n",
       " 'https://www.facebook.com/personalizedgiftsandmore/',\n",
       " 'http://www.ginnys.com/Gifts-and-Toys/Personalized-Gifts/index.cat',\n",
       " 'https://www.mileskimball.com/view-personalized-gifts',\n",
       " 'http://www.montblanc.com/en-us/collection/landing-pages/gift-finder-personalization.html',\n",
       " 'http://www.jenkinsnewman.com/store/personalized-gifts',\n",
       " 'https://www.lenox.com/personalized/category/30000309']"
      ]
     },
     "execution_count": 193,
     "metadata": {},
     "output_type": "execute_result"
    }
   ],
   "source": [
    "urls"
   ]
  },
  {
   "cell_type": "code",
   "execution_count": 194,
   "metadata": {
    "collapsed": true
   },
   "outputs": [],
   "source": [
    "crawler_endpoint = 'http://localhost:8888/page/extract'"
   ]
  },
  {
   "cell_type": "code",
   "execution_count": 195,
   "metadata": {
    "collapsed": true
   },
   "outputs": [],
   "source": [
    "payload = {\n",
    "    'urls': ','.join(urls),\n",
    "    'extractor': 'all_text'\n",
    "}"
   ]
  },
  {
   "cell_type": "code",
   "execution_count": 196,
   "metadata": {
    "collapsed": true
   },
   "outputs": [],
   "source": [
    "crawled_urls = requests.post(url=crawler_endpoint, data=payload)"
   ]
  },
  {
   "cell_type": "code",
   "execution_count": 197,
   "metadata": {
    "collapsed": true
   },
   "outputs": [],
   "source": [
    "crawled_urls_data = crawled_urls.json()"
   ]
  },
  {
   "cell_type": "code",
   "execution_count": 198,
   "metadata": {},
   "outputs": [],
   "source": [
    "urls_data = []\n",
    "for url, page in crawled_urls_data['pages']:\n",
    "    page['url'] = url\n",
    "    urls_data.append(page)"
   ]
  },
  {
   "cell_type": "code",
   "execution_count": 209,
   "metadata": {
    "collapsed": true
   },
   "outputs": [],
   "source": [
    "urls_df = pd.DataFrame(data=urls_data)"
   ]
  },
  {
   "cell_type": "code",
   "execution_count": 214,
   "metadata": {},
   "outputs": [
    {
     "data": {
      "text/plain": [
       "code\n",
       "200.0    48\n",
       "Name: code, dtype: int64"
      ]
     },
     "execution_count": 214,
     "metadata": {},
     "output_type": "execute_result"
    }
   ],
   "source": [
    "urls_df.groupby('code')['code'].count()"
   ]
  },
  {
   "cell_type": "code",
   "execution_count": 680,
   "metadata": {},
   "outputs": [
    {
     "data": {
      "text/plain": [
       "u'doctype.vm, start _seo_cssJs_versions.vm, end _seo_cssJs_versions.vm, start _seo_cssJs_versions_app.vm, end _seo_cssJs_versions_app.vm, User-Agent Mozilla/5.0 (Macintosh; Intel Mac OS X 10_10_1) AppleWebKit/537.36 (KHTML, like Gecko) Chrome/39.0.2171.95 Safari/537.36 -1, Server name: U03, endeca_category_template.vm, BEGIN component: open-document, EndecaQuery.descriptorDimension 20091217001 [Apparel Product Types, Disney Themes, Doll Accessories, Doll Lines, Doll Themes, Doll Types, Dolls by Gender, Dolls by Material, Dolls by Size, Gifts by Price, Jewelry Product Types, Kinkade Themes, MerchDim, More Ways To Shop, Product Types, Relationships, Styles & Materials, Themes], EndecaQuery.descriptorDimension 11238 $row.descriptor.properties.getValues(\"categoryDimensions\"), EndecaQuery.descriptorDimension P $row.descriptor.properties.getValues(\"categoryDimensions\"), EndecaQuery.descriptorDimension Y $row.descriptor.properties.getValues(\"categoryDimensions\"), true, true, breadcrumbs_list [{name=The Bradford Exchange Online, lastname=, group=vendorid, href=http://www.bradfordexchange.com}, {name=Personalized Gifts, lastname=Personalized Gifts, group=Allcategories, href=mcategory/personalized-gifts.html}]\\n    mainThemeName true\\n    mainCatName Personalized Gifts\\n    \\n    themeList []\\n    locationBreadcrumb, [if lte IE 7]>\\n    <link rel=\"stylesheet\" href=\"http://ak.bradfordexchange.com/store/20091217001/styles/ie7.css\" type=\"text/css\" media=\"all\" />\\n<![endif], [if lte IE 6]>\\n  \\n    <script>\\n        //DD_belatedPNG.fix(\\'.sf-sub-indicator, img, input\\');\\n  \\n    </script>\\n    <link rel=\"stylesheet\" href=\"http://ak.bradfordexchange.com/store/20091217001/styles/ie6.css\" type=\"text/css\" media=\"all\" />\\n<![endif], prevPageNum: false _ nextPageNum 2, end mainCssJsMeta.vm, sub_splittest.vm, BGE_New_PersUX_2017, bof sub_include_mboxjs.vm, eof sub_include_mboxjs.vm, Skip to content link for accessibility, Skip to Content, END component: open-document, BEGIN component: header, start mainHeader.vm, Homepage, <a class=\"quickOrder\" >Catalog Quick Order</a>, BEGIN component: mini-cart, 0 Items in Cart, END component: mini-cart, headerControls end, bof sub_include_mboxjs.vm, eof sub_include_mboxjs.vm, splittestheader.vm, Start Navigation, begin topNavSwitcher.vm, begin topnav.vm, Shop by Department, Remove .expanded for all pages but the home pages, Jewelry & Watches, Personalized, Relationships, Women\\'s Rings, Men\\'s Rings, Women\\'s Necklaces & Pendants, Women\\'s Bracelets, Women\\'s Earrings, Men\\'s Watches, Men\\'s Necklaces & Pendants, Women\\'s Watches, Weddings & Engagement, All Jewelry, Personalized Gifts, Apparel, Bags & Shoes, Handbags, Women\\'s Shoes, Women\\'s Jackets, Men\\'s Jackets, All Apparel & Accessories, Music Boxes & Collectibles, Personalized, Music Boxes, Snowglobes/Water Globes, Collector Plates, Figurines, Diecasts, Sculptures, Ornaments, Zippo\\xae Lighters, Home D\\xe9cor, Wall D\\xe9cor, Clocks, Bar & Glassware, Lamps, Sculptures, Holiday D\\xe9cor, All Home D\\xe9cor, Dolls, Baby Dolls, Monkeys, So Truly Mine Toy Dolls, So Truly Real Collectible Dolls, All Dolls, Holidays, Always In Bloom, Christmas Gifts, Christmas D\\xe9cor, Christmas Trees, Halloween, Nativity Sets, Ornaments, Santa Claus, Snowmen, Trains, Villages, Wreaths, All Holidays, Villages & Trains, Villages & Accessories, Trains & Accessories, All Villages & Trains, Coins, Everlasting Florals, Personal Checks & Stationery, Shop by Theme, More Ways to Shop, Personalized, Best Sellers, New Arrivals, Last Chance, Collections, Charity Support, Jewelry, Personalized Gifts, Sports, NFL, MLB, NHL, NBA, College Sports, NASCAR, Thomas Kinkade, Disney, FROZEN, The Nightmare Before Christmas, Mickey Mouse & Minnie Mouse, Disney Princess, Valentine\\'s, 2017 Valentine\\'s Day Gift Guide, Valentine\\'s Day Gifts, Mother\\'s Day, Mother\\'s Day Gifts, 2017 Mother\\'s Day Gift Guide, Father\\'s Day Gifts, Halloween, Holiday, Halloween, Christmas Gifts, Christmas D\\xe9cor, Christmas, 2016 Christmas Gift Guide, Christmas Gifts, Christmas D\\xe9cor, Gifts, Shop by Theme, // close .nav, end topNav.vm, end topNavSwitcher.vm, End Navigation, /end #header, HOLIDAY MESSAGING BEGIN, HOLIDAY MESSAGING END, END component: header, /end #header, end mainHeader.vm, END component: header, BEGIN CONTENT SLOT: Seasonal Message, END CONTENT SLOT: Seasonal Message, BEGIN CONTENT SLOT: Entry Message, END CONTENT SLOT: Entry Message, BEGIN component: breadcrumb, You Are Here:, The Bradford Exchange Online, Personalized Gifts, /end #breadcrumbs, END component: breadcrumb, BEGIN CONTENT SLOT: Body Promotion, END CONTENT SLOT: Body Promotion, sub_category_banner.vm, check cat url: mcategory/ mcategory/ ; should hide: !true, seoTopTitle1 _seoTopTitleForCurrCat_personalized-gifts.vm, Personalized Gifts, mainCatName         _seoTopTitleForCurrSecondTheme_personalizedgifts.vm, the end of sub_category_banner.vm, BEGIN CONTENT SLOT: Left Nav Promotion, END CONTENT SLOT: Left Nav Promotion, begin catLeftNavCategories.vm, Narrow Your Results, Relationship, Romantic, For Mother, For Daughter, For Son, For Granddaughter, For Grandson, For Grandmother, For Sister, For Her, For Him, For Daughter-In-Law, Weddings & Engagements, Themes, Animals, Anniversary, Birthdays, Bradford Bridal, Christmas, Dogs, Graduation, Military, NFL Football, Sports, Weddings & Engagements, Wildlife, More Themes, Product Types, Clocks, Collector Plates, Men\\'s Apparel & Accessories, Men\\'s Jewelry, Music Boxes, Ornaments, Sculptures, Snowglobes/Water Globes, Wall D\\xe9cor, Welcome Signs, Women\\'s Apparel & Accessories, Women\\'s Jewelry, More Product Types, More Ways To Shop, Best Sellers, Charity Support, Collections, New Arrivals, begin static_left_nav_blocks.vm, end static_left_nav_blocks.vm, /end .innerBox, /end .contentBox, end catLeftNavCategories.vm, BEGIN CONTENT SLOT: Left Nav Promotion, END CONTENT SLOT: Left Nav Promotion, sleeve must be used for \\'alt\\' content boxes, start sub_similar_items.vm, Shop Similar Items, See All Birthdays, See All Women\\'s Bracelets, See All For Her, See All For Mother, end sub_similar_items.vm, /end .sleeve, /end .contentBox.alt, BEGIN CONTENT SLOT: Left Nav Promotion, END CONTENT SLOT: Left Nav Promotion, BEGIN CONTENT SLOT: Left Nav Promotion, emailSignUp.vm, sleeve used here to slide graphic above top border, Sign up now for E-mail Updates, Enter E-Mail Address, Enter E-Mail Address, /end .sleeve, /end .adBox.full.mailingList, /end emailSignUp.vm, END CONTENT SLOT: Left Nav Promotion, BEGIN CONTENT SLOT: Left Nav Promotion, END CONTENT SLOT: Left Nav Promotion, /end #sidebar, BEGIN CONTENT SLOT: Body Promotion, END CONTENT SLOT: Body Promotion, sub_category_banner.vm, check cat url: mcategory/ mcategory/ ; should hide: !true, seoTop1: _seoTopForCurrCat_personalized-gifts.vm ; seoTop2: _seoTopForMainCat_personalized-gifts.vm, added _seoTopForCurrCat_personalized-gifts.vm, added _seoTopForMainCat_personalized-gifts.vm, the end of sub_category_banner.vm, BEGIN CONTENT SLOT: Body Promotion, END CONTENT SLOT: Body Promotion, BEGIN component: pagination, sub_pagination_bar.vm, prevPageNum: false _ nextPageNum 2, [if !IE]> paginWidth: 162, margin: 139 <![endif], 1 - 36 of 644 items, 1, [if !IE]> active item uses <span> instead of <a> for formatting <![endif], 2, 3, 4, 5, 36 Items Per Page, 12 Items Per Page, 24 Items Per Page, 36 Items Per Page, [if !IE]> /end .paginationBar <![endif], END component: pagination, BEGIN component: product listing, View Details, \"Forever In A Mother\\'s Heart\" Personalized Bracelet For Mom, placeholder for Quick Info Smartwindow, $129.00 US, recordProps.UNIT_PRICE:, /end .item, View Details, Love\\'s Promise Engraved Birthstone Ring, placeholder for Quick Info Smartwindow, $89.00 US, recordProps.UNIT_PRICE:, /end .item, View Details, Camo His And Hers Personalized Diamonesk Wedding Ring Set, placeholder for Quick Info Smartwindow, $169.00 US, recordProps.UNIT_PRICE:, /end .item, /end .row, View Details, Personalized \"Our Forever Love\" Diamond Bridal Ring Set, placeholder for Quick Info Smartwindow, $840.00 US, recordProps.UNIT_PRICE:, /end .item, View Details, \"Together In Love\" Mocha And White Diamond Ring With 2 Names, placeholder for Quick Info Smartwindow, $179.00 US, recordProps.UNIT_PRICE:, /end .item, View Details, Strength Of Family Name-Engraved Crystal Birthstone Bracelet, placeholder for Quick Info Smartwindow, $129.00 US, recordProps.UNIT_PRICE:, /end .item, /end .row, View Details, Together Forever Customized His & Hers Diamond Wedding Rings, placeholder for Quick Info Smartwindow, $349.00 US, recordProps.UNIT_PRICE:, /end .item, View Details, Disney \"The Magic Of Love\" Collector Plate With 2 Names, placeholder for Quick Info Smartwindow, $119.99 US, recordProps.UNIT_PRICE:, /end .item, View Details, Personalized Birthstone Pendant With Heart-Shaped Stones, placeholder for Quick Info Smartwindow, $119.00 US, recordProps.UNIT_PRICE:, /end .item, /end .row, View Details, \"Love Completes Us\" Personalized White Topaz Stacking Ring, placeholder for Quick Info Smartwindow, $99.00 US, recordProps.UNIT_PRICE:, /end .item, View Details, \"Forever & Always\" Engraved Couples Birthstone Necklace, placeholder for Quick Info Smartwindow, $119.00 US, recordProps.UNIT_PRICE:, /end .item, View Details, USMC Personalized Canvas Messenger Tote Bag With Name, placeholder for Quick Info Smartwindow, $99.95 US, recordProps.UNIT_PRICE:, /end .item, /end .row, View Details, U.S. Army Personalized Canvas Messenger Tote Bag With Name, placeholder for Quick Info Smartwindow, $99.95 US, recordProps.UNIT_PRICE:, /end .item, View Details, Create Your Personalized Diamonesk Bridal Ring Set, placeholder for Quick Info Smartwindow, $129.00 US, recordProps.UNIT_PRICE:, /end .item, View Details, Personalized \"Love\\'s Embrace\" Diamond Bridal Ring Set, placeholder for Quick Info Smartwindow, $599.00 US, recordProps.UNIT_PRICE:, /end .item, /end .row, View Details, U.S. Navy Personalized Canvas Messenger Tote Bag With Name, placeholder for Quick Info Smartwindow, $99.95 US, recordProps.UNIT_PRICE:, /end .item, View Details, \"Princess\" Bridal Ring Set With Personalized Engraving, placeholder for Quick Info Smartwindow, $119.00 US, recordProps.UNIT_PRICE:, /end .item, View Details, Owl Always Love You Glitter Globe With Granddaughter\\u2019s Name, placeholder for Quick Info Smartwindow, $69.99 US, recordProps.UNIT_PRICE:, /end .item, /end .row, View Details, Daughter, I Love You Music Box With Name-Engraved Charm, placeholder for Quick Info Smartwindow, $59.99 US, recordProps.UNIT_PRICE:, /end .item, View Details, \"Once Upon A Romance\" Personalized Diamonesk Bridal Ring, placeholder for Quick Info Smartwindow, $99.00 US, recordProps.UNIT_PRICE:, /end .item, View Details, \"Princess\" Bridal Ring Set With Personalized Engraving, placeholder for Quick Info Smartwindow, $149.00 US, recordProps.UNIT_PRICE:, /end .item, /end .row, View Details, Romantic Personalized 11-Diamond Engraved Ring, placeholder for Quick Info Smartwindow, $119.00 US, recordProps.UNIT_PRICE:, /end .item, View Details, Love Holds Our Family Together Name-Engraved Birthstone Ring, placeholder for Quick Info Smartwindow, $99.00 US, recordProps.UNIT_PRICE:, /end .item, View Details, \"Two Hearts Become Soul Mates\" Topaz & Garnet Engraved Ring, placeholder for Quick Info Smartwindow, $129.00 US, recordProps.UNIT_PRICE:, /end .item, /end .row, View Details, Precious Granddaughter Personalized Cultured Pearl Necklace, placeholder for Quick Info Smartwindow, $99.00 US, recordProps.UNIT_PRICE:, /end .item, View Details, U.S. Air Force Personalized Canvas Messenger Tote Bag, placeholder for Quick Info Smartwindow, $99.95 US, recordProps.UNIT_PRICE:, /end .item, View Details, Forever In Faith Customized His & Hers Diamond Wedding Rings, placeholder for Quick Info Smartwindow, $279.00 US, recordProps.UNIT_PRICE:, /end .item, /end .row, View Details, Irish Trinity Knot Custom His & Hers Diamonesk Wedding Rings, placeholder for Quick Info Smartwindow, $169.00 US, recordProps.UNIT_PRICE:, /end .item, View Details, Entwined Diamonesk Bridal Rings With Personalized Engraving, placeholder for Quick Info Smartwindow, $119.00 US, recordProps.UNIT_PRICE:, /end .item, View Details, \"Golden\" Custom Engraved Diamond Bridal Ring Set, placeholder for Quick Info Smartwindow, $599.00 US, recordProps.UNIT_PRICE:, /end .item, /end .row, View Details, Granddaughter Musical Glitter Globe With Name-Engraved Charm, placeholder for Quick Info Smartwindow, $69.99 US, recordProps.UNIT_PRICE:, /end .item, View Details, Disney The Stockings Were Hung... Personalized Sculpture, placeholder for Quick Info Smartwindow, $149.99 US, recordProps.UNIT_PRICE:, /end .item, View Details, Western His & Hers Personalized Diamonesk Wedding Ring Set, placeholder for Quick Info Smartwindow, $249.00 US, recordProps.UNIT_PRICE:, /end .item, /end .row, View Details, My Son, My Pride, My Joy Personalized Leather Men\\'s Bracelet, placeholder for Quick Info Smartwindow, $89.00 US, recordProps.UNIT_PRICE:, /end .item, View Details, Personalized Birthstone Roundel Pendant With Up To 6 Names, placeholder for Quick Info Smartwindow, $129.00 US, recordProps.UNIT_PRICE:, /end .item, View Details, \"Granddaughter, I Wish You\" Illuminated Carousel Music Box, placeholder for Quick Info Smartwindow, $79.99 US, recordProps.UNIT_PRICE:, /end .item, /end .row, [if !IE]> /end .results <![endif], [if !IE]> END component: product listing <![endif], [if !IE]> BEGIN component: pagination <![endif], sub_pagination_bar.vm, prevPageNum: false _ nextPageNum 2, [if !IE]> paginWidth: 162, margin: 139 <![endif], 1 - 36 of 644 items, 1, [if !IE]> active item uses <span> instead of <a> for formatting <![endif], 2, 3, 4, 5, 36 Items Per Page, 12 Items Per Page, 24 Items Per Page, 36 Items Per Page, [if !IE]> /end .paginationBar <![endif], END component: pagination, /end .contentBox, BEGIN CONTENT SLOT: cat_above_recently_viewed, END CONTENT SLOT: cat_above_recently_viewed, BEGIN CONTENT SLOT: cat_above_as_advertised, END CONTENT SLOT: cat_above_as_advertised, Certona AB Test start, BEGIN component: as-advertised, sub_as_advertised.vm, END component: as-advertised, Certona AB Test end, BEGIN CONTENT SLOT: cat_bottom, END CONTENT SLOT: cat_bottom, sub_category_banner.vm, check cat url: mcategory/ mcategory/ ; should hide: !true, seoTemplateName _seo_personalized-gifts.vm, BEGIN CONTENT SLOT: SEO Text, Why Choose Personalized Gifts?, When trying to find a gift for special someone, personalized gifts are always a great option. The Bradford Exchange Online certainly has a wide selection of unique customized gifts to choose from, from, personalized jewelry, and heirloom, personalized music boxes, to personalized home decor and wall decor, including, personalized welcome signs, . So while you\\'re shopping with us, might we provide you with our top 5 reasons why personalized gifts make an ideal choice., 1, They Show You Care, When you give someone one of our personalized items, it shows that you took the time to find something that\\'s truly special. That extra step you take in helping to create their personalized gift is sure to be noticed., 2, They Add a Personal Touch, Each personalized gift lets you add a mark of distinction, whether it\\'s a, personalized ring, with engraved names and birthstones to symbolize loved ones, or a keepsake collectible music box graced with the name of a beloved child., 3, They Help Celebrate Your Bond, Daughters and granddaughters, mothers and fathers, sons and daughters - these are bonds that are cherished so deeply. Our distinctive personalized gifts feature beautiful original designs created to honor those bonds in meaningful ways., 4, They\\'re Perfect for Special Occasions, Whether you are looking for a birthday present, a romantic gift for a wedding or anniversary, or something \"just because,\" we have just the perfect personalized gifts that express your feelings in a way unique to your gift recipient., 5, They\\'re One-of-a-Kind, When you add your special touches to our personalized gifts, you are participating in the process of a wonderful one-of-a-kind gift being born. Rest assured that when your recipient opens your thoughtful gift, it will be unlike anything they have ever received., /end .welDesc, END CONTENT SLOT: SEO Text, _seo_categoryDescForCurrCat_personalized-gifts.vm, _seo_categoryDescForMainCat_personalized-gifts.vm, the end of sub_category_banner.vm, /end #mainColumn, start mainFooter.vm, BEGIN component: inner-footer, by Collectibles Today\\xae, BEGIN component: mini-cart, 0 Items in Cart, END component: mini-cart, /end #innerFooter, END component: inner-footer, BEGIN component: site-footer, Customer Service, Order Status, Payment History, Manage My Account, Frequently Asked Questions, Personalization Policy, Contact Us, Accessibility, \\u25c7Shipping & Service, /end .column, Company Info, About Us, Employment, Privacy Policy, Affiliates, Site Map, Connect With Us, Supply Chain, Visit Our Blog, /end .column, Shop by Department, Start Department Links, START footerDepartments.vm, Jewelry, Personalized Gifts, Apparel &, Accessories, Collectibles, Home D\\xe9cor, Personalized Jewelry, Women\\'s Rings, Graduation Gifts, Sports Collectibles, Disney Collectibles, Bradford Bridal Collection, Mother\\'s Day Gifts, Shop by Theme, END footerDepartments.vm, End Department Links, /end .column, Shop with Confidence, FREE Return Shipping, Satisfaction Guaranteed up to 365 Days, sleeve used here to slide graphic above top border, Sign up now for E-mail Updates, Enter E-Mail Address, Enter E-Mail Address, /end .sleeve, /end .contentBox.full.mailingList, /end #siteFooter, END component: site-footer, BEGIN component: global-footer, Other Sites, The Ashton-Drake Galleries Online, The Hamilton Collection Online, Bradford Exchange Checks, Artful Impressions, International Sites, Begin BGE Template Copyright, Copyright \\xa92017 The Bradford Exchange Online and Collectibles Today\\xae. All rights reserved., End BGE Template Copyright, BEGIN COREMETRICS SUPPORT, requestURL http://www.bradfordexchange.com/mcategory/personalized-gifts.html, bof bgecoremetrics_data.vm, sub_defineProductType.vm, OPTION_PRODUCT_FLAG  N \\nPERSONALIZED_PRODUCT_FLAG  Y\\nDROPSHIP N, Personalized item, sub_defineCustomProducts.vm, the end of sub_defineCustomProducts.vm, product TYPE:  NOT  CUSTOM, product TYPE:  doesn\\'t  use widgets and use server-side validation (SSV), the end of sub_defineProductType.vm, sub_defineProductType.vm, OPTION_PRODUCT_FLAG  N \\nPERSONALIZED_PRODUCT_FLAG  Y\\nDROPSHIP N, Personalized item, sub_defineCustomProducts.vm, the end of sub_defineCustomProducts.vm, product TYPE:  NOT  CUSTOM, product TYPE:  doesn\\'t  use widgets and use server-side validation (SSV), the end of sub_defineProductType.vm, sub_defineProductType.vm, OPTION_PRODUCT_FLAG  N \\nPERSONALIZED_PRODUCT_FLAG  Y\\nDROPSHIP N, Personalized item, sub_defineCustomProducts.vm, the end of sub_defineCustomProducts.vm, product TYPE:  NOT  CUSTOM, product TYPE:  doesn\\'t  use widgets and use server-side validation (SSV), the end of sub_defineProductType.vm, sub_defineProductType.vm, OPTION_PRODUCT_FLAG  N \\nPERSONALIZED_PRODUCT_FLAG  Y\\nDROPSHIP N, Personalized item, sub_defineCustomProducts.vm, the end of sub_defineCustomProducts.vm, product TYPE:  NOT  CUSTOM, product TYPE:  doesn\\'t  use widgets and use server-side validation (SSV), the end of sub_defineProductType.vm, sub_defineProductType.vm, OPTION_PRODUCT_FLAG  N \\nPERSONALIZED_PRODUCT_FLAG  Y\\nDROPSHIP N, Personalized item, sub_defineCustomProducts.vm, the end of sub_defineCustomProducts.vm, product TYPE:  NOT  CUSTOM, product TYPE:  doesn\\'t  use widgets and use server-side validation (SSV), the end of sub_defineProductType.vm, sub_defineProductType.vm, OPTION_PRODUCT_FLAG  N \\nPERSONALIZED_PRODUCT_FLAG  Y\\nDROPSHIP N, Personalized item, sub_defineCustomProducts.vm, the end of sub_defineCustomProducts.vm, product TYPE:  NOT  CUSTOM, product TYPE:  doesn\\'t  use widgets and use server-side validation (SSV), the end of sub_defineProductType.vm, sub_defineProductType.vm, OPTION_PRODUCT_FLAG  N \\nPERSONALIZED_PRODUCT_FLAG  Y\\nDROPSHIP N, Personalized item, sub_defineCustomProducts.vm, the end of sub_defineCustomProducts.vm, product TYPE:  NOT  CUSTOM, product TYPE:  doesn\\'t  use widgets and use server-side validation (SSV), the end of sub_defineProductType.vm, sub_defineProductType.vm, OPTION_PRODUCT_FLAG  N \\nPERSONALIZED_PRODUCT_FLAG  Y\\nDROPSHIP N, Personalized item, sub_defineCustomProducts.vm, the end of sub_defineCustomProducts.vm, product TYPE:  NOT  CUSTOM, product TYPE:  doesn\\'t  use widgets and use server-side validation (SSV), the end of sub_defineProductType.vm, sub_defineProductType.vm, OPTION_PRODUCT_FLAG  N \\nPERSONALIZED_PRODUCT_FLAG  Y\\nDROPSHIP N, Personalized item, sub_defineCustomProducts.vm, the end of sub_defineCustomProducts.vm, product TYPE:  NOT  CUSTOM, product TYPE:  doesn\\'t  use widgets and use server-side validation (SSV), the end of sub_defineProductType.vm, sub_defineProductType.vm, OPTION_PRODUCT_FLAG  N \\nPERSONALIZED_PRODUCT_FLAG  Y\\nDROPSHIP N, Personalized item, sub_defineCustomProducts.vm, the end of sub_defineCustomProducts.vm, product TYPE:  NOT  CUSTOM, product TYPE:  doesn\\'t  use widgets and use server-side validation (SSV), the end of sub_defineProductType.vm, sub_defineProductType.vm, OPTION_PRODUCT_FLAG  N \\nPERSONALIZED_PRODUCT_FLAG  Y\\nDROPSHIP N, Personalized item, sub_defineCustomProducts.vm, the end of sub_defineCustomProducts.vm, product TYPE:  NOT  CUSTOM, product TYPE:  doesn\\'t  use widgets and use server-side validation (SSV), the end of sub_defineProductType.vm, sub_defineProductType.vm, OPTION_PRODUCT_FLAG  N \\nPERSONALIZED_PRODUCT_FLAG  Y\\nDROPSHIP N, Personalized item, sub_defineCustomProducts.vm, the end of sub_defineCustomProducts.vm, product TYPE:  NOT  CUSTOM, product TYPE:  doesn\\'t  use widgets and use server-side validation (SSV), the end of sub_defineProductType.vm, sub_defineProductType.vm, OPTION_PRODUCT_FLAG  N \\nPERSONALIZED_PRODUCT_FLAG  Y\\nDROPSHIP N, Personalized item, sub_defineCustomProducts.vm, the end of sub_defineCustomProducts.vm, product TYPE:  NOT  CUSTOM, product TYPE:  doesn\\'t  use widgets and use server-side validation (SSV), the end of sub_defineProductType.vm, sub_defineProductType.vm, OPTION_PRODUCT_FLAG  N \\nPERSONALIZED_PRODUCT_FLAG  Y\\nDROPSHIP N, Personalized item, sub_defineCustomProducts.vm, the end of sub_defineCustomProducts.vm, product TYPE:  NOT  CUSTOM, product TYPE:  doesn\\'t  use widgets and use server-side validation (SSV), the end of sub_defineProductType.vm, sub_defineProductType.vm, OPTION_PRODUCT_FLAG  N \\nPERSONALIZED_PRODUCT_FLAG  Y\\nDROPSHIP N, Personalized item, sub_defineCustomProducts.vm, the end of sub_defineCustomProducts.vm, product TYPE:  NOT  CUSTOM, product TYPE:  doesn\\'t  use widgets and use server-side validation (SSV), the end of sub_defineProductType.vm, sub_defineProductType.vm, OPTION_PRODUCT_FLAG  N \\nPERSONALIZED_PRODUCT_FLAG  Y\\nDROPSHIP N, Personalized item, sub_defineCustomProducts.vm, the end of sub_defineCustomProducts.vm, product TYPE:  NOT  CUSTOM, product TYPE:  doesn\\'t  use widgets and use server-side validation (SSV), the end of sub_defineProductType.vm, sub_defineProductType.vm, OPTION_PRODUCT_FLAG  N \\nPERSONALIZED_PRODUCT_FLAG  Y\\nDROPSHIP N, Personalized item, sub_defineCustomProducts.vm, the end of sub_defineCustomProducts.vm, product TYPE:  NOT  CUSTOM, product TYPE:  doesn\\'t  use widgets and use server-side validation (SSV), the end of sub_defineProductType.vm, sub_defineProductType.vm, OPTION_PRODUCT_FLAG  N \\nPERSONALIZED_PRODUCT_FLAG  Y\\nDROPSHIP N, Personalized item, sub_defineCustomProducts.vm, the end of sub_defineCustomProducts.vm, product TYPE:  NOT  CUSTOM, product TYPE:  doesn\\'t  use widgets and use server-side validation (SSV), the end of sub_defineProductType.vm, sub_defineProductType.vm, OPTION_PRODUCT_FLAG  N \\nPERSONALIZED_PRODUCT_FLAG  Y\\nDROPSHIP N, Personalized item, sub_defineCustomProducts.vm, the end of sub_defineCustomProducts.vm, product TYPE:  NOT  CUSTOM, product TYPE:  doesn\\'t  use widgets and use server-side validation (SSV), the end of sub_defineProductType.vm, sub_defineProductType.vm, OPTION_PRODUCT_FLAG  N \\nPERSONALIZED_PRODUCT_FLAG  Y\\nDROPSHIP N, Personalized item, sub_defineCustomProducts.vm, the end of sub_defineCustomProducts.vm, product TYPE:  NOT  CUSTOM, product TYPE:  doesn\\'t  use widgets and use server-side validation (SSV), the end of sub_defineProductType.vm, sub_defineProductType.vm, OPTION_PRODUCT_FLAG  N \\nPERSONALIZED_PRODUCT_FLAG  Y\\nDROPSHIP N, Personalized item, sub_defineCustomProducts.vm, the end of sub_defineCustomProducts.vm, product TYPE:  NOT  CUSTOM, product TYPE:  doesn\\'t  use widgets and use server-side validation (SSV), the end of sub_defineProductType.vm, sub_defineProductType.vm, OPTION_PRODUCT_FLAG  N \\nPERSONALIZED_PRODUCT_FLAG  Y\\nDROPSHIP N, Personalized item, sub_defineCustomProducts.vm, the end of sub_defineCustomProducts.vm, product TYPE:  NOT  CUSTOM, product TYPE:  doesn\\'t  use widgets and use server-side validation (SSV), the end of sub_defineProductType.vm, sub_defineProductType.vm, OPTION_PRODUCT_FLAG  N \\nPERSONALIZED_PRODUCT_FLAG  Y\\nDROPSHIP N, Personalized item, sub_defineCustomProducts.vm, the end of sub_defineCustomProducts.vm, product TYPE:  NOT  CUSTOM, product TYPE:  doesn\\'t  use widgets and use server-side validation (SSV), the end of sub_defineProductType.vm, sub_defineProductType.vm, OPTION_PRODUCT_FLAG  N \\nPERSONALIZED_PRODUCT_FLAG  Y\\nDROPSHIP N, Personalized item, sub_defineCustomProducts.vm, the end of sub_defineCustomProducts.vm, product TYPE:  NOT  CUSTOM, product TYPE:  doesn\\'t  use widgets and use server-side validation (SSV), the end of sub_defineProductType.vm, sub_defineProductType.vm, OPTION_PRODUCT_FLAG  N \\nPERSONALIZED_PRODUCT_FLAG  Y\\nDROPSHIP N, Personalized item, sub_defineCustomProducts.vm, the end of sub_defineCustomProducts.vm, product TYPE:  NOT  CUSTOM, product TYPE:  doesn\\'t  use widgets and use server-side validation (SSV), the end of sub_defineProductType.vm, sub_defineProductType.vm, OPTION_PRODUCT_FLAG  N \\nPERSONALIZED_PRODUCT_FLAG  Y\\nDROPSHIP N, Personalized item, sub_defineCustomProducts.vm, the end of sub_defineCustomProducts.vm, product TYPE:  NOT  CUSTOM, product TYPE:  doesn\\'t  use widgets and use server-side validation (SSV), the end of sub_defineProductType.vm, sub_defineProductType.vm, OPTION_PRODUCT_FLAG  N \\nPERSONALIZED_PRODUCT_FLAG  Y\\nDROPSHIP N, Personalized item, sub_defineCustomProducts.vm, the end of sub_defineCustomProducts.vm, product TYPE:  NOT  CUSTOM, product TYPE:  doesn\\'t  use widgets and use server-side validation (SSV), the end of sub_defineProductType.vm, sub_defineProductType.vm, OPTION_PRODUCT_FLAG  N \\nPERSONALIZED_PRODUCT_FLAG  Y\\nDROPSHIP N, Personalized item, sub_defineCustomProducts.vm, the end of sub_defineCustomProducts.vm, product TYPE:  NOT  CUSTOM, product TYPE:  doesn\\'t  use widgets and use server-side validation (SSV), the end of sub_defineProductType.vm, sub_defineProductType.vm, OPTION_PRODUCT_FLAG  N \\nPERSONALIZED_PRODUCT_FLAG  Y\\nDROPSHIP N, Personalized item, sub_defineCustomProducts.vm, the end of sub_defineCustomProducts.vm, product TYPE:  NOT  CUSTOM, product TYPE:  doesn\\'t  use widgets and use server-side validation (SSV), the end of sub_defineProductType.vm, sub_defineProductType.vm, OPTION_PRODUCT_FLAG  N \\nPERSONALIZED_PRODUCT_FLAG  Y\\nDROPSHIP N, Personalized item, sub_defineCustomProducts.vm, the end of sub_defineCustomProducts.vm, product TYPE:  NOT  CUSTOM, product TYPE:  doesn\\'t  use widgets and use server-side validation (SSV), the end of sub_defineProductType.vm, sub_defineProductType.vm, OPTION_PRODUCT_FLAG  N \\nPERSONALIZED_PRODUCT_FLAG  Y\\nDROPSHIP N, Personalized item, sub_defineCustomProducts.vm, the end of sub_defineCustomProducts.vm, product TYPE:  NOT  CUSTOM, product TYPE:  doesn\\'t  use widgets and use server-side validation (SSV), the end of sub_defineProductType.vm, sub_defineProductType.vm, OPTION_PRODUCT_FLAG  N \\nPERSONALIZED_PRODUCT_FLAG  Y\\nDROPSHIP N, Personalized item, sub_defineCustomProducts.vm, the end of sub_defineCustomProducts.vm, product TYPE:  NOT  CUSTOM, product TYPE:  doesn\\'t  use widgets and use server-side validation (SSV), the end of sub_defineProductType.vm, sub_defineProductType.vm, OPTION_PRODUCT_FLAG  N \\nPERSONALIZED_PRODUCT_FLAG  Y\\nDROPSHIP N, Personalized item, sub_defineCustomProducts.vm, the end of sub_defineCustomProducts.vm, product TYPE:  NOT  CUSTOM, product TYPE:  doesn\\'t  use widgets and use server-side validation (SSV), the end of sub_defineProductType.vm, sub_defineProductType.vm, OPTION_PRODUCT_FLAG  N \\nPERSONALIZED_PRODUCT_FLAG  Y\\nDROPSHIP N, Personalized item, sub_defineCustomProducts.vm, the end of sub_defineCustomProducts.vm, product TYPE:  NOT  CUSTOM, product TYPE:  doesn\\'t  use widgets and use server-side validation (SSV), the end of sub_defineProductType.vm, sub_defineProductType.vm, OPTION_PRODUCT_FLAG  N \\nPERSONALIZED_PRODUCT_FLAG  Y\\nDROPSHIP N, Personalized item, sub_defineCustomProducts.vm, the end of sub_defineCustomProducts.vm, product TYPE:  NOT  CUSTOM, product TYPE:  doesn\\'t  use widgets and use server-side validation (SSV), the end of sub_defineProductType.vm, sub_defineProductType.vm, OPTION_PRODUCT_FLAG  N \\nPERSONALIZED_PRODUCT_FLAG  N\\nDROPSHIP N, SoloSubplan item, sub_defineCustomProducts.vm, the end of sub_defineCustomProducts.vm, product TYPE:  NOT  CUSTOM, product TYPE:  doesn\\'t  use widgets and use server-side validation (SSV), the end of sub_defineProductType.vm, eof bgecoremetrics_data.vm, END COREMETRICS, /end #globalFooter, pixel_common.vm for BGE, pixel_control.vm, end of pixel_common.vm for BGE, end mainFooter.vm, END component: global-footer, /end #content, BEGIN component: close-document, /end #pageFrame, /end #container, pixel_store.vm -, pixel_control.vm, end of pixel_store.vm, The Bradford Exchange Online, Personalized Gifts, start of mainBottom.vm, NOTE: Other platform- and browser-specific stylesheets get loaded \\r\\n    on document.ready in application.js, global.css, nav...css, <script type=\"text/javascript\" src=\"http://ak.bradfordexchange.com/store/20091217001/scripts/hoverIntent.js\"></script>\\r\\n    <script type=\"text/javascript\" src=\"http://ak.bradfordexchange.com/store/20091217001/scripts/jquery.bgiframe.min.js\"></script>\\r\\n   <script type=\"text/javascript\" src=\"http://ak.bradfordexchange.com/store/20091217001/scripts/supersubs.js\"></script>, sub_globalPageTag.vm, the end of sub_globalPageTag.vm, reset.css, useproto  true, end of mainBottom.vm'"
      ]
     },
     "execution_count": 680,
     "metadata": {},
     "output_type": "execute_result"
    }
   ],
   "source": [
    "urls_df['content'].values[1]"
   ]
  },
  {
   "cell_type": "markdown",
   "metadata": {},
   "source": [
    "# Get top keywords"
   ]
  },
  {
   "cell_type": "code",
   "execution_count": 606,
   "metadata": {
    "collapsed": true
   },
   "outputs": [],
   "source": [
    "from sklearn.feature_extraction.text import TfidfVectorizer, CountVectorizer\n",
    "import numpy as np\n",
    "import re\n",
    "from nltk.stem.porter import PorterStemmer"
   ]
  },
  {
   "cell_type": "code",
   "execution_count": 218,
   "metadata": {
    "collapsed": true
   },
   "outputs": [
    {
     "data": {
      "text/html": [
       "<div>\n",
       "<table border=\"1\" class=\"dataframe\">\n",
       "  <thead>\n",
       "    <tr style=\"text-align: right;\">\n",
       "      <th></th>\n",
       "      <th>code</th>\n",
       "      <th>content</th>\n",
       "      <th>error</th>\n",
       "      <th>ok</th>\n",
       "      <th>tokens</th>\n",
       "      <th>url</th>\n",
       "    </tr>\n",
       "  </thead>\n",
       "  <tbody>\n",
       "    <tr>\n",
       "      <th>0</th>\n",
       "      <td>200.0</td>\n",
       "      <td>Begin Static META, Ux 1/ 2 specific code, ALP-...</td>\n",
       "      <td>False</td>\n",
       "      <td>True</td>\n",
       "      <td>[begin, static, meta, ux, 1, 2, specific, code...</td>\n",
       "      <td>https://www.staples.com/Personalized-Gifts/cat...</td>\n",
       "    </tr>\n",
       "    <tr>\n",
       "      <th>1</th>\n",
       "      <td>200.0</td>\n",
       "      <td>doctype.vm, start _seo_cssJs_versions.vm, end ...</td>\n",
       "      <td>False</td>\n",
       "      <td>True</td>\n",
       "      <td>[doctype.vm, start, seo_cssjs_versions.vm, end...</td>\n",
       "      <td>http://www.bradfordexchange.com/mcategory/pers...</td>\n",
       "    </tr>\n",
       "    <tr>\n",
       "      <th>2</th>\n",
       "      <td>200.0</td>\n",
       "      <td>Coradiant Include, End of Coradiant Include, S...</td>\n",
       "      <td>False</td>\n",
       "      <td>True</td>\n",
       "      <td>[coradiant, include, end, of, coradiant, inclu...</td>\n",
       "      <td>https://www.landsend.com/shop/gifts</td>\n",
       "    </tr>\n",
       "    <tr>\n",
       "      <th>3</th>\n",
       "      <td>200.0</td>\n",
       "      <td>emit CSM JS, 18tf9hw, From remote config v3, [...</td>\n",
       "      <td>False</td>\n",
       "      <td>True</td>\n",
       "      <td>[emit, csm, js, 18tf9hw, from, remote, config,...</td>\n",
       "      <td>https://www.amazon.com/Amazon-Custom/b?ie=UTF8...</td>\n",
       "    </tr>\n",
       "    <tr>\n",
       "      <th>4</th>\n",
       "      <td>200.0</td>\n",
       "      <td>&lt;![endif], &lt;PageMap&gt;\\n  &lt;DataObject type=\"docu...</td>\n",
       "      <td>False</td>\n",
       "      <td>True</td>\n",
       "      <td>[endif, pagemap, dataobject, type, document, a...</td>\n",
       "      <td>http://www.montblanc.com/en-us/collection/land...</td>\n",
       "    </tr>\n",
       "    <tr>\n",
       "      <th>5</th>\n",
       "      <td>200.0</td>\n",
       "      <td>&lt;![endif], BEGIN GOOGLE UNIVERSAL ANALYTICS CO...</td>\n",
       "      <td>False</td>\n",
       "      <td>True</td>\n",
       "      <td>[endif, begin, google, universal, analytics, c...</td>\n",
       "      <td>http://www.packersproshop.com/green-bay-packer...</td>\n",
       "    </tr>\n",
       "    <tr>\n",
       "      <th>6</th>\n",
       "      <td>200.0</td>\n",
       "      <td>CentralNotice, Talk:Personalized gifts, From W...</td>\n",
       "      <td>False</td>\n",
       "      <td>True</td>\n",
       "      <td>[centralnotice, talk, personalized, gifts, fro...</td>\n",
       "      <td>https://en.wikipedia.org/wiki/Talk%3APersonali...</td>\n",
       "    </tr>\n",
       "    <tr>\n",
       "      <th>7</th>\n",
       "      <td>200.0</td>\n",
       "      <td>[if lte IE 9]&gt;\\n            &lt;link rel=\"stylesh...</td>\n",
       "      <td>False</td>\n",
       "      <td>True</td>\n",
       "      <td>[if, lte, ie, 9, link, rel, stylesheet, type, ...</td>\n",
       "      <td>https://www.bedbathandbeyond.com/store/categor...</td>\n",
       "    </tr>\n",
       "    <tr>\n",
       "      <th>8</th>\n",
       "      <td>200.0</td>\n",
       "      <td>&lt;![endif], Google Tag Manager, Google Tag Mana...</td>\n",
       "      <td>False</td>\n",
       "      <td>True</td>\n",
       "      <td>[endif, google, tag, manager, google, tag, man...</td>\n",
       "      <td>https://www.iseeme.com/en-us/personalized-gift...</td>\n",
       "    </tr>\n",
       "    <tr>\n",
       "      <th>9</th>\n",
       "      <td>200.0</td>\n",
       "      <td>[if lt IE 9]&gt;\\n&lt;script type=\"text/javascript\" ...</td>\n",
       "      <td>False</td>\n",
       "      <td>True</td>\n",
       "      <td>[if, lt, ie, 9, script, type, text/javascript,...</td>\n",
       "      <td>https://www.thegrommet.com/collections/persona...</td>\n",
       "    </tr>\n",
       "    <tr>\n",
       "      <th>10</th>\n",
       "      <td>200.0</td>\n",
       "      <td>&lt;![endif], Bootstrap, HTML5 shim and Respond.j...</td>\n",
       "      <td>False</td>\n",
       "      <td>True</td>\n",
       "      <td>[endif, bootstrap, html5, shim, and, respond.j...</td>\n",
       "      <td>https://www.agiftpersonalized.com/</td>\n",
       "    </tr>\n",
       "    <tr>\n",
       "      <th>11</th>\n",
       "      <td>200.0</td>\n",
       "      <td>&lt;![endif], Need it soon?, Anniversary, Recipie...</td>\n",
       "      <td>False</td>\n",
       "      <td>True</td>\n",
       "      <td>[endif, need, it, soon, anniversary, recipient...</td>\n",
       "      <td>https://www.gifts.com/categories/personalized-...</td>\n",
       "    </tr>\n",
       "    <tr>\n",
       "      <th>12</th>\n",
       "      <td>200.0</td>\n",
       "      <td>For a better experience on Facebook,, update y...</td>\n",
       "      <td>False</td>\n",
       "      <td>True</td>\n",
       "      <td>[for, a, better, experience, on, facebook, upd...</td>\n",
       "      <td>https://www.facebook.com/personalizedgiftsandm...</td>\n",
       "    </tr>\n",
       "    <tr>\n",
       "      <th>13</th>\n",
       "      <td>200.0</td>\n",
       "      <td>[if lt IE 9]&gt;&lt;script type=\"text/javascript\"&gt; !...</td>\n",
       "      <td>False</td>\n",
       "      <td>True</td>\n",
       "      <td>[if, lt, ie, 9, script, type, text/javascript,...</td>\n",
       "      <td>https://www.potterybarnkids.com/shop/registry/...</td>\n",
       "    </tr>\n",
       "    <tr>\n",
       "      <th>14</th>\n",
       "      <td>200.0</td>\n",
       "      <td>ko if: $data.description, /ko, ko if: ((typeof...</td>\n",
       "      <td>False</td>\n",
       "      <td>True</td>\n",
       "      <td>[ko, if, data.description, ko, ko, if, typeof,...</td>\n",
       "      <td>https://www.thingsremembered.com/personalized-...</td>\n",
       "    </tr>\n",
       "    <tr>\n",
       "      <th>15</th>\n",
       "      <td>200.0</td>\n",
       "      <td>[if lte IE 9]&gt;\\n            &lt;link rel=\"stylesh...</td>\n",
       "      <td>False</td>\n",
       "      <td>True</td>\n",
       "      <td>[if, lte, ie, 9, link, rel, stylesheet, type, ...</td>\n",
       "      <td>https://www.buybuybaby.com/store/category/pers...</td>\n",
       "    </tr>\n",
       "    <tr>\n",
       "      <th>16</th>\n",
       "      <td>200.0</td>\n",
       "      <td>&lt;![endif], Need it soon?, CATALOG QUICK ORDER,...</td>\n",
       "      <td>False</td>\n",
       "      <td>True</td>\n",
       "      <td>[endif, need, it, soon, catalog, quick, order,...</td>\n",
       "      <td>https://www.personalcreations.com/</td>\n",
       "    </tr>\n",
       "    <tr>\n",
       "      <th>17</th>\n",
       "      <td>200.0</td>\n",
       "      <td>mobilified_page, START Custom Fonts Include, E...</td>\n",
       "      <td>False</td>\n",
       "      <td>True</td>\n",
       "      <td>[mobilified_page, start, custom, fonts, includ...</td>\n",
       "      <td>https://www.papersource.com/personalized_gifts/</td>\n",
       "    </tr>\n",
       "    <tr>\n",
       "      <th>18</th>\n",
       "      <td>200.0</td>\n",
       "      <td>ENH4947: Form Event Tracking, / ENH4947:\\tForm...</td>\n",
       "      <td>False</td>\n",
       "      <td>True</td>\n",
       "      <td>[enh4947, form, event, tracking, enh4947, 9, f...</td>\n",
       "      <td>http://www.countrydoor.com/Gifts/Personalized/...</td>\n",
       "    </tr>\n",
       "    <tr>\n",
       "      <th>19</th>\n",
       "      <td>200.0</td>\n",
       "      <td>&lt;link rel=\"stylesheet\" href=\"/css/critical.css...</td>\n",
       "      <td>False</td>\n",
       "      <td>True</td>\n",
       "      <td>[link, rel, stylesheet, href, css/critical.css...</td>\n",
       "      <td>https://www.uncommongoods.com/gifts/personaliz...</td>\n",
       "    </tr>\n",
       "    <tr>\n",
       "      <th>20</th>\n",
       "      <td>200.0</td>\n",
       "      <td>Home Page, Sign in to My Account, Skip to Cust...</td>\n",
       "      <td>False</td>\n",
       "      <td>True</td>\n",
       "      <td>[home, page, sign, in, to, my, account, skip, ...</td>\n",
       "      <td>http://www.ginnys.com/Gifts-and-Toys/Personali...</td>\n",
       "    </tr>\n",
       "    <tr>\n",
       "      <th>21</th>\n",
       "      <td>200.0</td>\n",
       "      <td>[if IE 6]&gt;\\n\\t\\t\\t\\t\\t&lt;link rel=\"stylesheet\" t...</td>\n",
       "      <td>False</td>\n",
       "      <td>True</td>\n",
       "      <td>[if, ie, 6, 9, 9, 9, 9, 9, link, rel, styleshe...</td>\n",
       "      <td>https://www.gifttree.com/v3/personalized-gifts</td>\n",
       "    </tr>\n",
       "    <tr>\n",
       "      <th>22</th>\n",
       "      <td>NaN</td>\n",
       "      <td>http://www.jenkinsnewman.com/store/personalize...</td>\n",
       "      <td>HTTPConnectionPool(host='www.jenkinsnewman.com...</td>\n",
       "      <td>NaN</td>\n",
       "      <td>[http://www.jenkinsnewman.com/store/personaliz...</td>\n",
       "      <td>http://www.jenkinsnewman.com/store/personalize...</td>\n",
       "    </tr>\n",
       "    <tr>\n",
       "      <th>23</th>\n",
       "      <td>200.0</td>\n",
       "      <td>CINMAR FRAMEWORK, End WWCM content: /GrandinRo...</td>\n",
       "      <td>False</td>\n",
       "      <td>True</td>\n",
       "      <td>[cinmar, framework, end, wwcm, content, grandi...</td>\n",
       "      <td>http://www.grandinroad.com/gifts-celebrations/</td>\n",
       "    </tr>\n",
       "    <tr>\n",
       "      <th>24</th>\n",
       "      <td>200.0</td>\n",
       "      <td>, , , My Bag, , 0, Subtotal: $0.00 USD, CH...</td>\n",
       "      <td>False</td>\n",
       "      <td>True</td>\n",
       "      <td>[, , , my, bag, , 0, subtotal, 0.00, usd, ...</td>\n",
       "      <td>https://weddingshop.theknot.com/gifts/for-her</td>\n",
       "    </tr>\n",
       "    <tr>\n",
       "      <th>25</th>\n",
       "      <td>200.0</td>\n",
       "      <td>Google Tag Manager, End Google Tag Manager, Pe...</td>\n",
       "      <td>False</td>\n",
       "      <td>True</td>\n",
       "      <td>[google, tag, manager, end, google, tag, manag...</td>\n",
       "      <td>http://www.personalizationmall.com/</td>\n",
       "    </tr>\n",
       "    <tr>\n",
       "      <th>26</th>\n",
       "      <td>200.0</td>\n",
       "      <td>&lt;![endif], JSON-LD support, end: SEO Manager 4...</td>\n",
       "      <td>False</td>\n",
       "      <td>True</td>\n",
       "      <td>[endif, json-ld, support, end, seo, manager, 4...</td>\n",
       "      <td>https://www.frecklebox.com/</td>\n",
       "    </tr>\n",
       "    <tr>\n",
       "      <th>27</th>\n",
       "      <td>200.0</td>\n",
       "      <td>Google Tag Manager, End Google Tag Manager, Pl...</td>\n",
       "      <td>False</td>\n",
       "      <td>True</td>\n",
       "      <td>[google, tag, manager, end, google, tag, manag...</td>\n",
       "      <td>https://www.giftsforyounow.com/personalized-gi...</td>\n",
       "    </tr>\n",
       "    <tr>\n",
       "      <th>28</th>\n",
       "      <td>200.0</td>\n",
       "      <td>END OF YOTTAA PREFETCH LOCATION=&lt;body[0]&gt;, PRE...</td>\n",
       "      <td>False</td>\n",
       "      <td>True</td>\n",
       "      <td>[end, of, yottaa, prefetch, location=&lt;body, 0,...</td>\n",
       "      <td>http://www.hallmark.com/personalized-gifts/</td>\n",
       "    </tr>\n",
       "    <tr>\n",
       "      <th>29</th>\n",
       "      <td>200.0</td>\n",
       "      <td>include pdp bundles here, react-empty: 5, Skip...</td>\n",
       "      <td>False</td>\n",
       "      <td>True</td>\n",
       "      <td>[include, pdp, bundles, here, react-empty, 5, ...</td>\n",
       "      <td>http://shop.nordstrom.com/c/personalized-gifts</td>\n",
       "    </tr>\n",
       "    <tr>\n",
       "      <th>30</th>\n",
       "      <td>200.0</td>\n",
       "      <td>&lt;![endif], CSS ===============================...</td>\n",
       "      <td>False</td>\n",
       "      <td>True</td>\n",
       "      <td>[endif, css, js, close, menu, personalized, ti...</td>\n",
       "      <td>https://store.nytimes.com/collections/personal...</td>\n",
       "    </tr>\n",
       "    <tr>\n",
       "      <th>31</th>\n",
       "      <td>200.0</td>\n",
       "      <td>Need help?, 1-855-202-7394, Track an Order, Si...</td>\n",
       "      <td>False</td>\n",
       "      <td>True</td>\n",
       "      <td>[need, help, 1-855-202-7394, track, an, order,...</td>\n",
       "      <td>https://www.mileskimball.com/view-personalized...</td>\n",
       "    </tr>\n",
       "    <tr>\n",
       "      <th>32</th>\n",
       "      <td>200.0</td>\n",
       "      <td>[if lt IE 9]&gt;&lt;script type=\"text/javascript\"&gt; !...</td>\n",
       "      <td>False</td>\n",
       "      <td>True</td>\n",
       "      <td>[if, lt, ie, 9, script, type, text/javascript,...</td>\n",
       "      <td>https://www.markandgraham.com/shop/gift-shops/...</td>\n",
       "    </tr>\n",
       "    <tr>\n",
       "      <th>33</th>\n",
       "      <td>200.0</td>\n",
       "      <td>&lt;![endif], The category is cat1210047, Begin M...</td>\n",
       "      <td>False</td>\n",
       "      <td>True</td>\n",
       "      <td>[endif, the, category, is, cat1210047, begin, ...</td>\n",
       "      <td>https://www.ltdcommodities.com/browse/Gift-Ide...</td>\n",
       "    </tr>\n",
       "    <tr>\n",
       "      <th>34</th>\n",
       "      <td>200.0</td>\n",
       "      <td>[if lt IE 8]&gt; \\n\\t&lt;script src=\"//content.cafep...</td>\n",
       "      <td>False</td>\n",
       "      <td>True</td>\n",
       "      <td>[if, lt, ie, 8, 9, script, src, content.cafepr...</td>\n",
       "      <td>http://www.cafepress.com/make/personalized-gifts</td>\n",
       "    </tr>\n",
       "    <tr>\n",
       "      <th>35</th>\n",
       "      <td>200.0</td>\n",
       "      <td>Skip to Main Content, BEGIN - MOBILE POPUP COD...</td>\n",
       "      <td>False</td>\n",
       "      <td>True</td>\n",
       "      <td>[skip, to, main, content, begin, mobile, popup...</td>\n",
       "      <td>https://www.costcophotocenter.com/shop</td>\n",
       "    </tr>\n",
       "    <tr>\n",
       "      <th>36</th>\n",
       "      <td>200.0</td>\n",
       "      <td>Your web browser must have JavaScript enabled ...</td>\n",
       "      <td>False</td>\n",
       "      <td>True</td>\n",
       "      <td>[your, web, browser, must, have, javascript, e...</td>\n",
       "      <td>https://www.spreadshirt.com/personalized-gifts...</td>\n",
       "    </tr>\n",
       "    <tr>\n",
       "      <th>37</th>\n",
       "      <td>200.0</td>\n",
       "      <td>[if lte IE 9]&gt;\\n                              ...</td>\n",
       "      <td>False</td>\n",
       "      <td>True</td>\n",
       "      <td>[if, lte, ie, 9, link, rel, stylesheet, href, ...</td>\n",
       "      <td>https://www.etsy.com/featured/personalized-hol...</td>\n",
       "    </tr>\n",
       "    <tr>\n",
       "      <th>38</th>\n",
       "      <td>200.0</td>\n",
       "      <td>JavaScript seems to be disabled in your browse...</td>\n",
       "      <td>False</td>\n",
       "      <td>True</td>\n",
       "      <td>[javascript, seems, to, be, disabled, in, your...</td>\n",
       "      <td>https://www.lillianvernon.com/lillys-kids.html</td>\n",
       "    </tr>\n",
       "    <tr>\n",
       "      <th>39</th>\n",
       "      <td>NaN</td>\n",
       "      <td>https://www.walmart.com/cp/personalized-gifts/...</td>\n",
       "      <td>HTTPSConnectionPool(host='www.walmart.com', po...</td>\n",
       "      <td>NaN</td>\n",
       "      <td>[https://www.walmart.com/cp/personalized-gifts...</td>\n",
       "      <td>https://www.walmart.com/cp/personalized-gifts/...</td>\n",
       "    </tr>\n",
       "    <tr>\n",
       "      <th>40</th>\n",
       "      <td>200.0</td>\n",
       "      <td>ko if: $data.description, /ko, ko if: ((typeof...</td>\n",
       "      <td>False</td>\n",
       "      <td>True</td>\n",
       "      <td>[ko, if, data.description, ko, ko, if, typeof,...</td>\n",
       "      <td>https://www.lenox.com/personalized/category/30...</td>\n",
       "    </tr>\n",
       "    <tr>\n",
       "      <th>41</th>\n",
       "      <td>200.0</td>\n",
       "      <td>&lt;![endif], The category is cat1210048, Begin M...</td>\n",
       "      <td>False</td>\n",
       "      <td>True</td>\n",
       "      <td>[endif, the, category, is, cat1210048, begin, ...</td>\n",
       "      <td>https://www.lakeside.com/browse/Gift-Ideas-Per...</td>\n",
       "    </tr>\n",
       "    <tr>\n",
       "      <th>42</th>\n",
       "      <td>200.0</td>\n",
       "      <td>[if IE]&gt;\\n        &lt;style&gt;\\n            .ie-mas...</td>\n",
       "      <td>False</td>\n",
       "      <td>True</td>\n",
       "      <td>[if, ie, style, ie-mask-layer, display, block,...</td>\n",
       "      <td>https://www.igp.com/personalized-gifts</td>\n",
       "    </tr>\n",
       "    <tr>\n",
       "      <th>43</th>\n",
       "      <td>200.0</td>\n",
       "      <td>Search Groupon, Zip Code, Neighborhood, City, ...</td>\n",
       "      <td>False</td>\n",
       "      <td>True</td>\n",
       "      <td>[search, groupon, zip, code, neighborhood, cit...</td>\n",
       "      <td>https://www.groupon.com/occasion/personalized-...</td>\n",
       "    </tr>\n",
       "    <tr>\n",
       "      <th>44</th>\n",
       "      <td>200.0</td>\n",
       "      <td>&lt;![endif], [if lt IE 9]&gt;\\n    &lt;script type=\"te...</td>\n",
       "      <td>False</td>\n",
       "      <td>True</td>\n",
       "      <td>[endif, if, lt, ie, 9, script, type, text/java...</td>\n",
       "      <td>https://www.shutterfly.com/personalized-gifts</td>\n",
       "    </tr>\n",
       "    <tr>\n",
       "      <th>45</th>\n",
       "      <td>200.0</td>\n",
       "      <td>&lt;![endif], JavaScript seems to be disabled in ...</td>\n",
       "      <td>False</td>\n",
       "      <td>True</td>\n",
       "      <td>[endif, javascript, seems, to, be, disabled, i...</td>\n",
       "      <td>https://www.putmeinthestory.com/personalized-g...</td>\n",
       "    </tr>\n",
       "    <tr>\n",
       "      <th>46</th>\n",
       "      <td>200.0</td>\n",
       "      <td>[if lte IE 9]&gt;\\r\\n&lt;script src=\"/assets/dist-5....</td>\n",
       "      <td>False</td>\n",
       "      <td>True</td>\n",
       "      <td>[if, lte, ie, 9, script, src, assets/dist-5.1....</td>\n",
       "      <td>http://www.buildabear.com/shopping/search/Gift...</td>\n",
       "    </tr>\n",
       "    <tr>\n",
       "      <th>47</th>\n",
       "      <td>200.0</td>\n",
       "      <td>[if lt IE 9]&gt;\\n\\t\\t&lt;link rel=\"stylesheet\" href...</td>\n",
       "      <td>False</td>\n",
       "      <td>True</td>\n",
       "      <td>[if, lt, ie, 9, 9, 9, link, rel, stylesheet, h...</td>\n",
       "      <td>http://www.beau-coup.com/personalized-gifts.htm</td>\n",
       "    </tr>\n",
       "    <tr>\n",
       "      <th>48</th>\n",
       "      <td>200.0</td>\n",
       "      <td>Custom fonts, Jquery (Jquery UI is loaded in t...</td>\n",
       "      <td>False</td>\n",
       "      <td>True</td>\n",
       "      <td>[custom, fonts, jquery, jquery, ui, is, loaded...</td>\n",
       "      <td>http://www.mancrates.com/personalized-gifts</td>\n",
       "    </tr>\n",
       "    <tr>\n",
       "      <th>49</th>\n",
       "      <td>200.0</td>\n",
       "      <td>&lt;![endif], SCRIPTS, STYLES, Facebook Pixel Cod...</td>\n",
       "      <td>False</td>\n",
       "      <td>True</td>\n",
       "      <td>[endif, scripts, styles, facebook, pixel, code...</td>\n",
       "      <td>https://marleylilly.com/category/gifts/</td>\n",
       "    </tr>\n",
       "  </tbody>\n",
       "</table>\n",
       "</div>"
      ],
      "text/plain": [
       "     code                                            content  \\\n",
       "0   200.0  Begin Static META, Ux 1/ 2 specific code, ALP-...   \n",
       "1   200.0  doctype.vm, start _seo_cssJs_versions.vm, end ...   \n",
       "2   200.0  Coradiant Include, End of Coradiant Include, S...   \n",
       "3   200.0  emit CSM JS, 18tf9hw, From remote config v3, [...   \n",
       "4   200.0  <![endif], <PageMap>\\n  <DataObject type=\"docu...   \n",
       "5   200.0  <![endif], BEGIN GOOGLE UNIVERSAL ANALYTICS CO...   \n",
       "6   200.0  CentralNotice, Talk:Personalized gifts, From W...   \n",
       "7   200.0  [if lte IE 9]>\\n            <link rel=\"stylesh...   \n",
       "8   200.0  <![endif], Google Tag Manager, Google Tag Mana...   \n",
       "9   200.0  [if lt IE 9]>\\n<script type=\"text/javascript\" ...   \n",
       "10  200.0  <![endif], Bootstrap, HTML5 shim and Respond.j...   \n",
       "11  200.0  <![endif], Need it soon?, Anniversary, Recipie...   \n",
       "12  200.0  For a better experience on Facebook,, update y...   \n",
       "13  200.0  [if lt IE 9]><script type=\"text/javascript\"> !...   \n",
       "14  200.0  ko if: $data.description, /ko, ko if: ((typeof...   \n",
       "15  200.0  [if lte IE 9]>\\n            <link rel=\"stylesh...   \n",
       "16  200.0  <![endif], Need it soon?, CATALOG QUICK ORDER,...   \n",
       "17  200.0  mobilified_page, START Custom Fonts Include, E...   \n",
       "18  200.0  ENH4947: Form Event Tracking, / ENH4947:\\tForm...   \n",
       "19  200.0  <link rel=\"stylesheet\" href=\"/css/critical.css...   \n",
       "20  200.0  Home Page, Sign in to My Account, Skip to Cust...   \n",
       "21  200.0  [if IE 6]>\\n\\t\\t\\t\\t\\t<link rel=\"stylesheet\" t...   \n",
       "22    NaN  http://www.jenkinsnewman.com/store/personalize...   \n",
       "23  200.0  CINMAR FRAMEWORK, End WWCM content: /GrandinRo...   \n",
       "24  200.0  , , , My Bag, , 0, Subtotal: $0.00 USD, CH...   \n",
       "25  200.0  Google Tag Manager, End Google Tag Manager, Pe...   \n",
       "26  200.0  <![endif], JSON-LD support, end: SEO Manager 4...   \n",
       "27  200.0  Google Tag Manager, End Google Tag Manager, Pl...   \n",
       "28  200.0  END OF YOTTAA PREFETCH LOCATION=<body[0]>, PRE...   \n",
       "29  200.0  include pdp bundles here, react-empty: 5, Skip...   \n",
       "30  200.0  <![endif], CSS ===============================...   \n",
       "31  200.0  Need help?, 1-855-202-7394, Track an Order, Si...   \n",
       "32  200.0  [if lt IE 9]><script type=\"text/javascript\"> !...   \n",
       "33  200.0  <![endif], The category is cat1210047, Begin M...   \n",
       "34  200.0  [if lt IE 8]> \\n\\t<script src=\"//content.cafep...   \n",
       "35  200.0  Skip to Main Content, BEGIN - MOBILE POPUP COD...   \n",
       "36  200.0  Your web browser must have JavaScript enabled ...   \n",
       "37  200.0  [if lte IE 9]>\\n                              ...   \n",
       "38  200.0  JavaScript seems to be disabled in your browse...   \n",
       "39    NaN  https://www.walmart.com/cp/personalized-gifts/...   \n",
       "40  200.0  ko if: $data.description, /ko, ko if: ((typeof...   \n",
       "41  200.0  <![endif], The category is cat1210048, Begin M...   \n",
       "42  200.0  [if IE]>\\n        <style>\\n            .ie-mas...   \n",
       "43  200.0  Search Groupon, Zip Code, Neighborhood, City, ...   \n",
       "44  200.0  <![endif], [if lt IE 9]>\\n    <script type=\"te...   \n",
       "45  200.0  <![endif], JavaScript seems to be disabled in ...   \n",
       "46  200.0  [if lte IE 9]>\\r\\n<script src=\"/assets/dist-5....   \n",
       "47  200.0  [if lt IE 9]>\\n\\t\\t<link rel=\"stylesheet\" href...   \n",
       "48  200.0  Custom fonts, Jquery (Jquery UI is loaded in t...   \n",
       "49  200.0  <![endif], SCRIPTS, STYLES, Facebook Pixel Cod...   \n",
       "\n",
       "                                                error    ok  \\\n",
       "0                                               False  True   \n",
       "1                                               False  True   \n",
       "2                                               False  True   \n",
       "3                                               False  True   \n",
       "4                                               False  True   \n",
       "5                                               False  True   \n",
       "6                                               False  True   \n",
       "7                                               False  True   \n",
       "8                                               False  True   \n",
       "9                                               False  True   \n",
       "10                                              False  True   \n",
       "11                                              False  True   \n",
       "12                                              False  True   \n",
       "13                                              False  True   \n",
       "14                                              False  True   \n",
       "15                                              False  True   \n",
       "16                                              False  True   \n",
       "17                                              False  True   \n",
       "18                                              False  True   \n",
       "19                                              False  True   \n",
       "20                                              False  True   \n",
       "21                                              False  True   \n",
       "22  HTTPConnectionPool(host='www.jenkinsnewman.com...   NaN   \n",
       "23                                              False  True   \n",
       "24                                              False  True   \n",
       "25                                              False  True   \n",
       "26                                              False  True   \n",
       "27                                              False  True   \n",
       "28                                              False  True   \n",
       "29                                              False  True   \n",
       "30                                              False  True   \n",
       "31                                              False  True   \n",
       "32                                              False  True   \n",
       "33                                              False  True   \n",
       "34                                              False  True   \n",
       "35                                              False  True   \n",
       "36                                              False  True   \n",
       "37                                              False  True   \n",
       "38                                              False  True   \n",
       "39  HTTPSConnectionPool(host='www.walmart.com', po...   NaN   \n",
       "40                                              False  True   \n",
       "41                                              False  True   \n",
       "42                                              False  True   \n",
       "43                                              False  True   \n",
       "44                                              False  True   \n",
       "45                                              False  True   \n",
       "46                                              False  True   \n",
       "47                                              False  True   \n",
       "48                                              False  True   \n",
       "49                                              False  True   \n",
       "\n",
       "                                               tokens  \\\n",
       "0   [begin, static, meta, ux, 1, 2, specific, code...   \n",
       "1   [doctype.vm, start, seo_cssjs_versions.vm, end...   \n",
       "2   [coradiant, include, end, of, coradiant, inclu...   \n",
       "3   [emit, csm, js, 18tf9hw, from, remote, config,...   \n",
       "4   [endif, pagemap, dataobject, type, document, a...   \n",
       "5   [endif, begin, google, universal, analytics, c...   \n",
       "6   [centralnotice, talk, personalized, gifts, fro...   \n",
       "7   [if, lte, ie, 9, link, rel, stylesheet, type, ...   \n",
       "8   [endif, google, tag, manager, google, tag, man...   \n",
       "9   [if, lt, ie, 9, script, type, text/javascript,...   \n",
       "10  [endif, bootstrap, html5, shim, and, respond.j...   \n",
       "11  [endif, need, it, soon, anniversary, recipient...   \n",
       "12  [for, a, better, experience, on, facebook, upd...   \n",
       "13  [if, lt, ie, 9, script, type, text/javascript,...   \n",
       "14  [ko, if, data.description, ko, ko, if, typeof,...   \n",
       "15  [if, lte, ie, 9, link, rel, stylesheet, type, ...   \n",
       "16  [endif, need, it, soon, catalog, quick, order,...   \n",
       "17  [mobilified_page, start, custom, fonts, includ...   \n",
       "18  [enh4947, form, event, tracking, enh4947, 9, f...   \n",
       "19  [link, rel, stylesheet, href, css/critical.css...   \n",
       "20  [home, page, sign, in, to, my, account, skip, ...   \n",
       "21  [if, ie, 6, 9, 9, 9, 9, 9, link, rel, styleshe...   \n",
       "22  [http://www.jenkinsnewman.com/store/personaliz...   \n",
       "23  [cinmar, framework, end, wwcm, content, grandi...   \n",
       "24  [, , , my, bag, , 0, subtotal, 0.00, usd, ...   \n",
       "25  [google, tag, manager, end, google, tag, manag...   \n",
       "26  [endif, json-ld, support, end, seo, manager, 4...   \n",
       "27  [google, tag, manager, end, google, tag, manag...   \n",
       "28  [end, of, yottaa, prefetch, location=<body, 0,...   \n",
       "29  [include, pdp, bundles, here, react-empty, 5, ...   \n",
       "30  [endif, css, js, close, menu, personalized, ti...   \n",
       "31  [need, help, 1-855-202-7394, track, an, order,...   \n",
       "32  [if, lt, ie, 9, script, type, text/javascript,...   \n",
       "33  [endif, the, category, is, cat1210047, begin, ...   \n",
       "34  [if, lt, ie, 8, 9, script, src, content.cafepr...   \n",
       "35  [skip, to, main, content, begin, mobile, popup...   \n",
       "36  [your, web, browser, must, have, javascript, e...   \n",
       "37  [if, lte, ie, 9, link, rel, stylesheet, href, ...   \n",
       "38  [javascript, seems, to, be, disabled, in, your...   \n",
       "39  [https://www.walmart.com/cp/personalized-gifts...   \n",
       "40  [ko, if, data.description, ko, ko, if, typeof,...   \n",
       "41  [endif, the, category, is, cat1210048, begin, ...   \n",
       "42  [if, ie, style, ie-mask-layer, display, block,...   \n",
       "43  [search, groupon, zip, code, neighborhood, cit...   \n",
       "44  [endif, if, lt, ie, 9, script, type, text/java...   \n",
       "45  [endif, javascript, seems, to, be, disabled, i...   \n",
       "46  [if, lte, ie, 9, script, src, assets/dist-5.1....   \n",
       "47  [if, lt, ie, 9, 9, 9, link, rel, stylesheet, h...   \n",
       "48  [custom, fonts, jquery, jquery, ui, is, loaded...   \n",
       "49  [endif, scripts, styles, facebook, pixel, code...   \n",
       "\n",
       "                                                  url  \n",
       "0   https://www.staples.com/Personalized-Gifts/cat...  \n",
       "1   http://www.bradfordexchange.com/mcategory/pers...  \n",
       "2                 https://www.landsend.com/shop/gifts  \n",
       "3   https://www.amazon.com/Amazon-Custom/b?ie=UTF8...  \n",
       "4   http://www.montblanc.com/en-us/collection/land...  \n",
       "5   http://www.packersproshop.com/green-bay-packer...  \n",
       "6   https://en.wikipedia.org/wiki/Talk%3APersonali...  \n",
       "7   https://www.bedbathandbeyond.com/store/categor...  \n",
       "8   https://www.iseeme.com/en-us/personalized-gift...  \n",
       "9   https://www.thegrommet.com/collections/persona...  \n",
       "10                 https://www.agiftpersonalized.com/  \n",
       "11  https://www.gifts.com/categories/personalized-...  \n",
       "12  https://www.facebook.com/personalizedgiftsandm...  \n",
       "13  https://www.potterybarnkids.com/shop/registry/...  \n",
       "14  https://www.thingsremembered.com/personalized-...  \n",
       "15  https://www.buybuybaby.com/store/category/pers...  \n",
       "16                 https://www.personalcreations.com/  \n",
       "17    https://www.papersource.com/personalized_gifts/  \n",
       "18  http://www.countrydoor.com/Gifts/Personalized/...  \n",
       "19  https://www.uncommongoods.com/gifts/personaliz...  \n",
       "20  http://www.ginnys.com/Gifts-and-Toys/Personali...  \n",
       "21     https://www.gifttree.com/v3/personalized-gifts  \n",
       "22  http://www.jenkinsnewman.com/store/personalize...  \n",
       "23     http://www.grandinroad.com/gifts-celebrations/  \n",
       "24      https://weddingshop.theknot.com/gifts/for-her  \n",
       "25                http://www.personalizationmall.com/  \n",
       "26                        https://www.frecklebox.com/  \n",
       "27  https://www.giftsforyounow.com/personalized-gi...  \n",
       "28        http://www.hallmark.com/personalized-gifts/  \n",
       "29     http://shop.nordstrom.com/c/personalized-gifts  \n",
       "30  https://store.nytimes.com/collections/personal...  \n",
       "31  https://www.mileskimball.com/view-personalized...  \n",
       "32  https://www.markandgraham.com/shop/gift-shops/...  \n",
       "33  https://www.ltdcommodities.com/browse/Gift-Ide...  \n",
       "34   http://www.cafepress.com/make/personalized-gifts  \n",
       "35             https://www.costcophotocenter.com/shop  \n",
       "36  https://www.spreadshirt.com/personalized-gifts...  \n",
       "37  https://www.etsy.com/featured/personalized-hol...  \n",
       "38     https://www.lillianvernon.com/lillys-kids.html  \n",
       "39  https://www.walmart.com/cp/personalized-gifts/...  \n",
       "40  https://www.lenox.com/personalized/category/30...  \n",
       "41  https://www.lakeside.com/browse/Gift-Ideas-Per...  \n",
       "42             https://www.igp.com/personalized-gifts  \n",
       "43  https://www.groupon.com/occasion/personalized-...  \n",
       "44      https://www.shutterfly.com/personalized-gifts  \n",
       "45  https://www.putmeinthestory.com/personalized-g...  \n",
       "46  http://www.buildabear.com/shopping/search/Gift...  \n",
       "47    http://www.beau-coup.com/personalized-gifts.htm  \n",
       "48        http://www.mancrates.com/personalized-gifts  \n",
       "49            https://marleylilly.com/category/gifts/  "
      ]
     },
     "execution_count": 218,
     "metadata": {},
     "output_type": "execute_result"
    }
   ],
   "source": [
    "urls_df"
   ]
  },
  {
   "cell_type": "code",
   "execution_count": 239,
   "metadata": {},
   "outputs": [],
   "source": [
    "content_tokens = urls_df.query('ok==True')['tokens'].values.tolist()"
   ]
  },
  {
   "cell_type": "code",
   "execution_count": 400,
   "metadata": {
    "collapsed": true
   },
   "outputs": [],
   "source": [
    "def is_number(text):\n",
    "    try:\n",
    "        int(text)\n",
    "        return True\n",
    "    except:\n",
    "        return False"
   ]
  },
  {
   "cell_type": "code",
   "execution_count": 763,
   "metadata": {
    "collapsed": true
   },
   "outputs": [],
   "source": [
    "stop_words = {'www', 'https', 'href', 'http'}"
   ]
  },
  {
   "cell_type": "code",
   "execution_count": 764,
   "metadata": {},
   "outputs": [],
   "source": [
    "def is_valid_token(token):\n",
    "    return  not token.startswith('<') \\\n",
    "            and not token.endswith('>') \\\n",
    "            and not token.startswith('[') \\\n",
    "            and not token.endswith(']') \\\n",
    "            and len(token) > 3 \\\n",
    "            and token not in stop_words \\\n",
    "            and not is_number(clean_token(token))"
   ]
  },
  {
   "cell_type": "code",
   "execution_count": 811,
   "metadata": {
    "collapsed": true
   },
   "outputs": [],
   "source": [
    "def clean_token(token):\n",
    "    return re.sub(r'[\\W-]', ' ', token)"
   ]
  },
  {
   "cell_type": "code",
   "execution_count": 812,
   "metadata": {},
   "outputs": [],
   "source": [
    "def tokenize(text):\n",
    "    text = ' '.join([clean_token(token) for token in text.split() if is_valid_token(token) and clean_token(token)])\n",
    "    return [token.strip() for token in text.split() if token and token.strip() and is_valid_token(token.strip())]"
   ]
  },
  {
   "cell_type": "code",
   "execution_count": 798,
   "metadata": {
    "collapsed": true
   },
   "outputs": [],
   "source": [
    "stemmer = PorterStemmer()"
   ]
  },
  {
   "cell_type": "code",
   "execution_count": 799,
   "metadata": {},
   "outputs": [
    {
     "data": {
      "text/plain": [
       "u'person'"
      ]
     },
     "execution_count": 799,
     "metadata": {},
     "output_type": "execute_result"
    }
   ],
   "source": [
    "stemmer.stem('personalized')"
   ]
  },
  {
   "cell_type": "code",
   "execution_count": 800,
   "metadata": {},
   "outputs": [
    {
     "data": {
      "text/plain": [
       "['acbc', 'cdf']"
      ]
     },
     "execution_count": 800,
     "metadata": {},
     "output_type": "execute_result"
    }
   ],
   "source": [
    "token_pattern = re.compile(r'(?u)\\b\\w\\w+\\b')\n",
    "token_pattern.findall('acbc cdf')"
   ]
  },
  {
   "cell_type": "code",
   "execution_count": 810,
   "metadata": {},
   "outputs": [
    {
     "data": {
      "text/plain": [
       "['acbc_cdf']"
      ]
     },
     "execution_count": 810,
     "metadata": {},
     "output_type": "execute_result"
    }
   ],
   "source": [
    "re.sub'acbc_cdf'"
   ]
  },
  {
   "cell_type": "code",
   "execution_count": 801,
   "metadata": {},
   "outputs": [
    {
     "data": {
      "text/plain": [
       "['acbc']"
      ]
     },
     "execution_count": 801,
     "metadata": {},
     "output_type": "execute_result"
    }
   ],
   "source": [
    "tokenize('@...s.et, acbc %9')"
   ]
  },
  {
   "cell_type": "code",
   "execution_count": 802,
   "metadata": {},
   "outputs": [
    {
     "name": "stdout",
     "output_type": "stream",
     "text": [
      "- Top 20 keywords\n",
      "save - 2.15923691048\n",
      "center - 2.15923691048\n",
      "summer - 2.15923691048\n",
      "know - 2.15923691048\n",
      "sure - 2.15923691048\n",
      "featured - 2.15923691048\n",
      "favorite - 2.15923691048\n",
      "exclusive - 2.15923691048\n",
      "corporate - 2.15923691048\n",
      "touch - 2.15923691048\n",
      "organization - 2.15923691048\n",
      "candles - 2.15923691048\n",
      "personalize - 2.15923691048\n",
      "print - 2.15923691048\n",
      "body - 2.15923691048\n",
      "purchase - 2.15923691048\n",
      "quick - 2.15923691048\n",
      "apparel - 2.15923691048\n",
      "guarantee - 2.09861228867\n",
      "shirts - 2.09861228867\n"
     ]
    }
   ],
   "source": [
    "vectorizer = TfidfVectorizer(tokenizer=tokenize, stop_words='english', min_df=0.3, max_df=0.9, max_features=200)\n",
    "vectorizer.fit_transform(urls_df['content'])\n",
    "features = vectorizer.get_feature_names()\n",
    "indices = np.argsort(vectorizer.idf_)[::-1]\n",
    "\n",
    "top_n = 20\n",
    "print '- Top %d keywords' % top_n\n",
    "top_keywords = [(features[i], vectorizer.idf_[i]) for i in indices[:top_n]]\n",
    "for keyword, score in top_keywords:\n",
    "    print keyword, '-', score"
   ]
  },
  {
   "cell_type": "code",
   "execution_count": 803,
   "metadata": {},
   "outputs": [
    {
     "name": "stdout",
     "output_type": "stream",
     "text": [
      "200\n",
      "8078\n"
     ]
    }
   ],
   "source": [
    "print len(vectorizer.vocabulary_)\n",
    "print len(vectorizer.stop_words_)"
   ]
  },
  {
   "cell_type": "code",
   "execution_count": 804,
   "metadata": {},
   "outputs": [
    {
     "name": "stdout",
     "output_type": "stream",
     "text": [
      "False\n",
      "False\n",
      "True\n",
      "True\n"
     ]
    }
   ],
   "source": [
    "print 'personalized' in vectorizer.vocabulary_\n",
    "print 'gifts' in vectorizer.vocabulary_\n",
    "print 'personalized' in vectorizer.stop_words_\n",
    "print 'gifts' in vectorizer.stop_words_"
   ]
  },
  {
   "cell_type": "code",
   "execution_count": 823,
   "metadata": {
    "collapsed": true
   },
   "outputs": [],
   "source": [
    "TfidfVectorizer?"
   ]
  },
  {
   "cell_type": "code",
   "execution_count": null,
   "metadata": {
    "collapsed": true
   },
   "outputs": [],
   "source": []
  }
 ],
 "metadata": {
  "kernelspec": {
   "display_name": "Python 2",
   "language": "python",
   "name": "python2"
  },
  "language_info": {
   "codemirror_mode": {
    "name": "ipython",
    "version": 2
   },
   "file_extension": ".py",
   "mimetype": "text/x-python",
   "name": "python",
   "nbconvert_exporter": "python",
   "pygments_lexer": "ipython2",
   "version": "2.7.6"
  }
 },
 "nbformat": 4,
 "nbformat_minor": 2
}
